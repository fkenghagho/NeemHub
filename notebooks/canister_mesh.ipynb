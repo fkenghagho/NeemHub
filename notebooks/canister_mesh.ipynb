{
 "cells": [
  {
   "cell_type": "code",
   "execution_count": 1,
   "id": "e7b5f89d-ecc7-412a-81c3-d5efc3c0b356",
   "metadata": {},
   "outputs": [
    {
     "ename": "ModuleNotFoundError",
     "evalue": "No module named 'rospkg'",
     "output_type": "error",
     "traceback": [
      "\u001b[0;31m---------------------------------------------------------------------------\u001b[0m",
      "\u001b[0;31mModuleNotFoundError\u001b[0m                       Traceback (most recent call last)",
      "Cell \u001b[0;32mIn[1], line 1\u001b[0m\n\u001b[0;32m----> 1\u001b[0m \u001b[38;5;28;01mfrom\u001b[39;00m \u001b[38;5;21;01mmesh_loader\u001b[39;00m \u001b[38;5;28;01mimport\u001b[39;00m \u001b[38;5;241m*\u001b[39m\n\u001b[1;32m      2\u001b[0m \u001b[38;5;28;01mfrom\u001b[39;00m \u001b[38;5;21;01mutils\u001b[39;00m \u001b[38;5;28;01mimport\u001b[39;00m open_desktop\n\u001b[1;32m      3\u001b[0m load()\n",
      "File \u001b[0;32m~/ws/src/NeemHub/notebooks/mesh_loader.py:1\u001b[0m\n\u001b[0;32m----> 1\u001b[0m \u001b[38;5;28;01mimport\u001b[39;00m \u001b[38;5;21;01mrospy\u001b[39;00m\n\u001b[1;32m      2\u001b[0m \u001b[38;5;28;01mimport\u001b[39;00m \u001b[38;5;21;01mtime\u001b[39;00m\n\u001b[1;32m      3\u001b[0m \u001b[38;5;28;01mfrom\u001b[39;00m \u001b[38;5;21;01mutils\u001b[39;00m \u001b[38;5;28;01mimport\u001b[39;00m open_desktop, open_rvizweb, run_command, create_marker, publish_marker_array, TracyDemo\n",
      "File \u001b[0;32m/opt/ros/noetic/lib/python3/dist-packages/rospy/__init__.py:49\u001b[0m\n\u001b[1;32m     42\u001b[0m \u001b[38;5;66;03m# import symbols into rospy namespace\u001b[39;00m\n\u001b[1;32m     43\u001b[0m \u001b[38;5;66;03m# NOTE: there are much better ways to configure python module\u001b[39;00m\n\u001b[1;32m     44\u001b[0m \u001b[38;5;66;03m# dictionaries, but the rospy codebase isn't quite in shape for that\u001b[39;00m\n\u001b[1;32m     45\u001b[0m \u001b[38;5;66;03m# yet\u001b[39;00m\n\u001b[1;32m     47\u001b[0m \u001b[38;5;28;01mfrom\u001b[39;00m \u001b[38;5;21;01mstd_msgs\u001b[39;00m\u001b[38;5;21;01m.\u001b[39;00m\u001b[38;5;21;01mmsg\u001b[39;00m \u001b[38;5;28;01mimport\u001b[39;00m Header\n\u001b[0;32m---> 49\u001b[0m \u001b[38;5;28;01mfrom\u001b[39;00m \u001b[38;5;21;01m.\u001b[39;00m\u001b[38;5;21;01mclient\u001b[39;00m \u001b[38;5;28;01mimport\u001b[39;00m spin, myargv, init_node, \\\n\u001b[1;32m     50\u001b[0m     get_published_topics, \\\n\u001b[1;32m     51\u001b[0m     wait_for_message, \\\n\u001b[1;32m     52\u001b[0m     get_master, \\\n\u001b[1;32m     53\u001b[0m     on_shutdown, \\\n\u001b[1;32m     54\u001b[0m     get_param, get_param_cached, get_param_names, set_param, delete_param, has_param, search_param,\\\n\u001b[1;32m     55\u001b[0m     DEBUG, INFO, WARN, ERROR, FATAL\n\u001b[1;32m     56\u001b[0m \u001b[38;5;28;01mfrom\u001b[39;00m \u001b[38;5;21;01m.\u001b[39;00m\u001b[38;5;21;01mtimer\u001b[39;00m \u001b[38;5;28;01mimport\u001b[39;00m sleep, Rate, Timer\n\u001b[1;32m     57\u001b[0m \u001b[38;5;28;01mfrom\u001b[39;00m \u001b[38;5;21;01m.\u001b[39;00m\u001b[38;5;21;01mcore\u001b[39;00m \u001b[38;5;28;01mimport\u001b[39;00m is_shutdown, signal_shutdown, \\\n\u001b[1;32m     58\u001b[0m     get_node_uri, get_ros_root, \\\n\u001b[1;32m     59\u001b[0m     logdebug, logwarn, loginfo, logout, logerr, logfatal, \\\n\u001b[0;32m   (...)\u001b[0m\n\u001b[1;32m     62\u001b[0m     logdebug_once, logwarn_once, loginfo_once, logerr_once, logfatal_once, \\\n\u001b[1;32m     63\u001b[0m     parse_rosrpc_uri\n",
      "File \u001b[0;32m/opt/ros/noetic/lib/python3/dist-packages/rospy/client.py:52\u001b[0m\n\u001b[1;32m     49\u001b[0m \u001b[38;5;28;01mimport\u001b[39;00m \u001b[38;5;21;01mrosgraph\u001b[39;00m\n\u001b[1;32m     50\u001b[0m \u001b[38;5;28;01mimport\u001b[39;00m \u001b[38;5;21;01mrosgraph\u001b[39;00m\u001b[38;5;21;01m.\u001b[39;00m\u001b[38;5;21;01mnames\u001b[39;00m\n\u001b[0;32m---> 52\u001b[0m \u001b[38;5;28;01mimport\u001b[39;00m \u001b[38;5;21;01mroslib\u001b[39;00m\n\u001b[1;32m     54\u001b[0m \u001b[38;5;28;01mimport\u001b[39;00m \u001b[38;5;21;01mrospy\u001b[39;00m\u001b[38;5;21;01m.\u001b[39;00m\u001b[38;5;21;01mcore\u001b[39;00m\n\u001b[1;32m     55\u001b[0m \u001b[38;5;28;01mfrom\u001b[39;00m \u001b[38;5;21;01mrospy\u001b[39;00m\u001b[38;5;21;01m.\u001b[39;00m\u001b[38;5;21;01mcore\u001b[39;00m \u001b[38;5;28;01mimport\u001b[39;00m logwarn, loginfo, logerr, logdebug\n",
      "File \u001b[0;32m/opt/ros/noetic/lib/python3/dist-packages/roslib/__init__.py:50\u001b[0m\n\u001b[1;32m     33\u001b[0m \u001b[38;5;124;03m\"\"\"\u001b[39;00m\n\u001b[1;32m     34\u001b[0m \u001b[38;5;124;03mroslib is largely deprecated starting in the ROS Fuerte release.\u001b[39;00m\n\u001b[1;32m     35\u001b[0m \n\u001b[0;32m   (...)\u001b[0m\n\u001b[1;32m     45\u001b[0m \n\u001b[1;32m     46\u001b[0m \u001b[38;5;124;03m\"\"\"\u001b[39;00m\n\u001b[1;32m     48\u001b[0m __version__ \u001b[38;5;241m=\u001b[39m \u001b[38;5;124m'\u001b[39m\u001b[38;5;124m1.7.0\u001b[39m\u001b[38;5;124m'\u001b[39m\n\u001b[0;32m---> 50\u001b[0m \u001b[38;5;28;01mfrom\u001b[39;00m \u001b[38;5;21;01mroslib\u001b[39;00m\u001b[38;5;21;01m.\u001b[39;00m\u001b[38;5;21;01mlauncher\u001b[39;00m \u001b[38;5;28;01mimport\u001b[39;00m load_manifest  \u001b[38;5;66;03m# noqa: F401\u001b[39;00m\n\u001b[1;32m     51\u001b[0m \u001b[38;5;66;03m# this import is necessary due to a bug in purge_build.py in our\u001b[39;00m\n\u001b[1;32m     52\u001b[0m \u001b[38;5;66;03m# debian assets.\u001b[39;00m\n\u001b[1;32m     53\u001b[0m \u001b[38;5;28;01mimport\u001b[39;00m \u001b[38;5;21;01mroslib\u001b[39;00m\u001b[38;5;21;01m.\u001b[39;00m\u001b[38;5;21;01mstacks\u001b[39;00m  \u001b[38;5;66;03m# noqa: F401, I100\u001b[39;00m\n",
      "File \u001b[0;32m/opt/ros/noetic/lib/python3/dist-packages/roslib/launcher.py:42\u001b[0m\n\u001b[1;32m     39\u001b[0m \u001b[38;5;28;01mimport\u001b[39;00m \u001b[38;5;21;01mos\u001b[39;00m\n\u001b[1;32m     40\u001b[0m \u001b[38;5;28;01mimport\u001b[39;00m \u001b[38;5;21;01msys\u001b[39;00m\n\u001b[0;32m---> 42\u001b[0m \u001b[38;5;28;01mimport\u001b[39;00m \u001b[38;5;21;01mrospkg\u001b[39;00m\n\u001b[1;32m     44\u001b[0m \u001b[38;5;66;03m# bootstrapped keeps track of which packages we've loaded so we don't\u001b[39;00m\n\u001b[1;32m     45\u001b[0m \u001b[38;5;66;03m# update the path multiple times\u001b[39;00m\n\u001b[1;32m     46\u001b[0m _bootstrapped \u001b[38;5;241m=\u001b[39m []\n",
      "\u001b[0;31mModuleNotFoundError\u001b[0m: No module named 'rospkg'"
     ]
    }
   ],
   "source": [
    "from mesh_loader import *\n",
    "from utils import open_desktop\n",
    "load()"
   ]
  },
  {
   "cell_type": "code",
   "execution_count": null,
   "id": "7fd4cd65-ea8f-49e3-a302-9fa9dddf00af",
   "metadata": {},
   "outputs": [],
   "source": []
  }
 ],
 "metadata": {
  "kernelspec": {
   "display_name": "Python 3 (ipykernel)",
   "language": "python",
   "name": "python3"
  },
  "language_info": {
   "codemirror_mode": {
    "name": "ipython",
    "version": 3
   },
   "file_extension": ".py",
   "mimetype": "text/x-python",
   "name": "python",
   "nbconvert_exporter": "python",
   "pygments_lexer": "ipython3",
   "version": "3.8.10"
  }
 },
 "nbformat": 4,
 "nbformat_minor": 5
}
