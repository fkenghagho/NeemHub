{
 "cells": [
  {
   "cell_type": "code",
   "execution_count": null,
   "id": "7fd4cd65-ea8f-49e3-a302-9fa9dddf00af",
   "metadata": {},
   "outputs": [],
   "source": [
    "from mesh_loader import *\n",
    "from utils import open_desktop\n",
    "load()"
   ]
  }
 ],
 "metadata": {
  "kernelspec": {
   "display_name": "Python 3 (ipykernel)",
   "language": "python",
   "name": "python3"
  },
  "language_info": {
   "codemirror_mode": {
    "name": "ipython",
    "version": 3
   },
   "file_extension": ".py",
   "mimetype": "text/x-python",
   "name": "python",
   "nbconvert_exporter": "python",
   "pygments_lexer": "ipython3",
   "version": "3.8.10"
  }
 },
 "nbformat": 4,
 "nbformat_minor": 5
}
