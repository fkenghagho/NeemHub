{
 "cells": [
  {
   "cell_type": "markdown",
   "id": "1074d4a0-5432-4ada-955e-42302eba878b",
   "metadata": {},
   "source": [
    "# **Web-Based NEEM Inspection**"
   ]
  },
  {
   "cell_type": "code",
   "execution_count": 1,
   "id": "378e9015-79e6-4438-9dc8-8eeab9f5a81a",
   "metadata": {
    "tags": []
   },
   "outputs": [],
   "source": [
    "from neem import *\n",
    "load()"
   ]
  },
  {
   "cell_type": "code",
   "execution_count": null,
   "id": "0fcd2bc1-b491-4671-b14a-bee59483ca14",
   "metadata": {},
   "outputs": [],
   "source": []
  }
 ],
 "metadata": {
  "kernelspec": {
   "display_name": "Python 3 (ipykernel)",
   "language": "python",
   "name": "python3"
  },
  "language_info": {
   "codemirror_mode": {
    "name": "ipython",
    "version": 3
   },
   "file_extension": ".py",
   "mimetype": "text/x-python",
   "name": "python",
   "nbconvert_exporter": "python",
   "pygments_lexer": "ipython3",
   "version": "3.8.10"
  }
 },
 "nbformat": 4,
 "nbformat_minor": 5
}
